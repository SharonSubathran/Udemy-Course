{
 "cells": [
  {
   "cell_type": "code",
   "execution_count": 35,
   "metadata": {},
   "outputs": [],
   "source": [
    "import json\n",
    "import difflib  #library to compare text\n",
    "from difflib import SequenceMatcher\n",
    "from difflib import get_close_matches"
   ]
  },
  {
   "cell_type": "code",
   "execution_count": 43,
   "metadata": {},
   "outputs": [],
   "source": [
    "#help (get_close_matches)\n",
    "#syntax = sequencematcher(isjunk) when comparing two blocks of texts with break lines and spaces\n",
    "SequenceMatcher(None, \"rain\", \"rainn\").ratio() #similarity between two strings\n",
    "get_close_matches(\"rainn\", [\"help\", \"pyramid\",\"rain\"])\n",
    "type(data.keys())   #find the type of data dealing with for similarity determinance\n",
    "get_close_matches(\"rainn\", data.keys())[0]   #get_close_matches RETURNS A LIST OBJECT, you want just rain to be the output so you say get...()[0]       "
   ]
  },
  {
   "cell_type": "markdown",
   "metadata": {},
   "source": [
    "# ----------------------------CODE BEGINS HERE------------------------"
   ]
  },
  {
   "cell_type": "code",
   "execution_count": 68,
   "metadata": {},
   "outputs": [
    {
     "name": "stdout",
     "output_type": "stream",
     "text": [
      "enter wordrainn\n",
      "Did you mean rain ? Enter Y is yes N if noy\n",
      "Precipitation in the form of liquid water drops with diameters greater than 0.5 millimetres.\n",
      "To fall from the clouds in drops of water.\n"
     ]
    }
   ],
   "source": [
    "def definition(word):\n",
    "    #data is a .json file saved in the same folder as this program\n",
    "    word = word.lower()\n",
    "    \n",
    "    if word in data:\n",
    "        return data[word]\n",
    "    \n",
    "    elif word.title() in data: #if user entered \"texas\" this will check for \"Texas\" as well. w.title()  will convert the first letter to uppercase and the rest to lowercase.\n",
    "        return data[word.title()]           \n",
    "    \n",
    "    elif word.upper() in data: #in case user enters words like USA or NATO\n",
    "        return data[word.upper()]\n",
    "    \n",
    "    elif len(get_close_matches(word, data.keys())) > 0:\n",
    "        best_match = get_close_matches(word, data.keys())[0] \n",
    "        #return \"Did you mean %s ?\" %get_close_matches(word, data.keys())[0]    #returns first match\n",
    "        yn = input(\"Did you mean %s ? Enter Y is yes N if no\" %best_match)\n",
    "        yn = yn.lower()\n",
    "        \n",
    "        if yn =='y':\n",
    "            return data[best_match]\n",
    "        elif yn == 'n':\n",
    "            return \"The word doesnt exist\"\n",
    "        else:\n",
    "            return \"Wrong query\"\n",
    "            \n",
    "        \n",
    "    else:\n",
    "        return (\"The word doesnt exist\")\n",
    "\n",
    "word = input(\"enter word\")\n",
    "\n",
    "output =  (definition(word))\n",
    "\n",
    "if  type(output) == list:     #since sometimes the function generates a list & sometime string so add the if to make suer it doesnt iterate through strings\n",
    "    for item in output:\n",
    "        print (item)     \n",
    "\n",
    "else:\n",
    "    print (output)"
   ]
  },
  {
   "cell_type": "code",
   "execution_count": null,
   "metadata": {
    "collapsed": true
   },
   "outputs": [],
   "source": []
  }
 ],
 "metadata": {
  "kernelspec": {
   "display_name": "Python 3",
   "language": "python",
   "name": "python3"
  },
  "language_info": {
   "codemirror_mode": {
    "name": "ipython",
    "version": 3
   },
   "file_extension": ".py",
   "mimetype": "text/x-python",
   "name": "python",
   "nbconvert_exporter": "python",
   "pygments_lexer": "ipython3",
   "version": "3.6.3"
  }
 },
 "nbformat": 4,
 "nbformat_minor": 2
}
